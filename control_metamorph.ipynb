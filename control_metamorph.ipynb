{
 "cells": [
  {
   "cell_type": "markdown",
   "id": "44a21548",
   "metadata": {},
   "source": [
    "# Metamorpher controler \n",
    "This python script connects jupyther to Metamorph and allows the user to control the microscope through python scripts instead of journals.\n",
    "\\\n",
    "**For the user: it is important to run (ctr+enter) all the following cells (connecting MetaMorph, Other useful tools) before launching an acquisition - they should print out \"Good to go\"**"
   ]
  },
  {
   "cell_type": "markdown",
   "id": "65418bf4",
   "metadata": {},
   "source": [
    "### Connecting MetaMorph\n",
    "Import the clr library and the dll library\n",
    "\\\n",
    "Add the path to the acquisition journal and the folder were the temporary images are store\n",
    "\\\n",
    "**=> Run the following cell (ctr+enter or Run/Executer)**"
   ]
  },
  {
   "cell_type": "code",
   "execution_count": 1,
   "id": "02475b01",
   "metadata": {
    "hide_input": true
   },
   "outputs": [
    {
     "ename": "FileNotFoundException",
     "evalue": "Unable to find assembly 'D:\\Users\\Iris\\Interop.MMAppLib.dll'.\n   at Python.Runtime.CLRModule.AddReference(String name)",
     "output_type": "error",
     "traceback": [
      "\u001b[1;31m---------------------------------------------------------------------------\u001b[0m",
      "\u001b[1;31mFileNotFoundException\u001b[0m                     Traceback (most recent call last)",
      "\u001b[1;32m~\\AppData\\Local\\Temp\\ipykernel_16320\\2658870611.py\u001b[0m in \u001b[0;36m<module>\u001b[1;34m\u001b[0m\n\u001b[0;32m      1\u001b[0m \u001b[1;32mimport\u001b[0m \u001b[0mclr\u001b[0m\u001b[1;33m\u001b[0m\u001b[1;33m\u001b[0m\u001b[0m\n\u001b[1;32m----> 2\u001b[1;33m \u001b[0mclr\u001b[0m\u001b[1;33m.\u001b[0m\u001b[0mAddReference\u001b[0m\u001b[1;33m(\u001b[0m\u001b[1;34m'D:\\\\Users\\\\Iris\\\\Interop.MMAppLib.dll'\u001b[0m\u001b[1;33m)\u001b[0m\u001b[1;33m\u001b[0m\u001b[1;33m\u001b[0m\u001b[0m\n\u001b[0m\u001b[0;32m      3\u001b[0m \u001b[1;32mimport\u001b[0m \u001b[0mMMAppLib\u001b[0m\u001b[1;33m\u001b[0m\u001b[1;33m\u001b[0m\u001b[0m\n\u001b[0;32m      4\u001b[0m \u001b[0mcore\u001b[0m\u001b[1;33m=\u001b[0m\u001b[0mMMAppLib\u001b[0m\u001b[1;33m.\u001b[0m\u001b[0mUserCallClass\u001b[0m\u001b[1;33m(\u001b[0m\u001b[1;33m)\u001b[0m\u001b[1;33m\u001b[0m\u001b[1;33m\u001b[0m\u001b[0m\n\u001b[0;32m      5\u001b[0m \u001b[1;31m#print(dir(core))\u001b[0m\u001b[1;33m\u001b[0m\u001b[1;33m\u001b[0m\u001b[1;33m\u001b[0m\u001b[0m\n",
      "\u001b[1;31mFileNotFoundException\u001b[0m: Unable to find assembly 'D:\\Users\\Iris\\Interop.MMAppLib.dll'.\n   at Python.Runtime.CLRModule.AddReference(String name)"
     ]
    }
   ],
   "source": [
    "import clr\n",
    "clr.AddReference('D:\\\\Users\\\\Iris\\\\Interop.MMAppLib.dll')\n",
    "import MMAppLib\n",
    "core=MMAppLib.UserCallClass()\n",
    "#print(dir(core))\n",
    "jnl_path='C:\\\\MM\\\\app\\\\mmproc\\\\journals\\\\s.JNL' # path to the journal taking a snapshot and saving it somewhere\n",
    "path_tmp='C:\\\\TEMP\\\\' #location of the temporary image file generated during acquisition - can be modified in MM\n",
    "print(\"Good to go\")"
   ]
  },
  {
   "cell_type": "markdown",
   "id": "9cf54f1b",
   "metadata": {},
   "source": [
    "### Other useful tools: libraries and functions"
   ]
  },
  {
   "cell_type": "markdown",
   "id": "4aaa210b",
   "metadata": {},
   "source": [
    "Import other useful libraries"
   ]
  },
  {
   "cell_type": "code",
   "execution_count": 13,
   "id": "bfaa56ee",
   "metadata": {
    "hide_input": true,
    "scrolled": true,
    "tags": [
     "hide_input"
    ]
   },
   "outputs": [
    {
     "name": "stdout",
     "output_type": "stream",
     "text": [
      "Libraries are Good to go\n"
     ]
    }
   ],
   "source": [
    "# libraries \n",
    "import matplotlib.pyplot as plt\n",
    "import numpy as np\n",
    "import math \n",
    "import time\n",
    "import tifffile as tif\n",
    "from PIL import Image\n",
    "import pandas as pd\n",
    "import json\n",
    "from PIL.TiffTags import TAGS\n",
    "import PIL\n",
    "from scipy.optimize import curve_fit\n",
    "\n",
    "print(\"Libraries are Good to go\")"
   ]
  },
  {
   "cell_type": "markdown",
   "id": "ec7c3764",
   "metadata": {
    "hide_input": true
   },
   "source": [
    "Tool functions:\n",
    "- set_pos: set the position of the microscope from predetermined coordinates \n",
    "- add_pos: add current position to a dataframe \n",
    "- set_wl: select the wavelenght channel \n",
    "- set_exposure: set the exposure (ms) \n",
    "- get_exposure: get the value of current exposure\n",
    "- set_gain: set the gain\n",
    "- set_laser: set the intensities of the lasers \n",
    "- acquire: acquire an image and retrun it as a matrix of intensity values - can be used as an illumination function for activation\n",
    "- save_meta: acquire 2 files: the image as a .tif file and the meta data as a .txt file\n",
    "+ other uselful tool functions to deal with matrices \n",
    "\n",
    "\n",
    "**=> Run the following cell (ctr+enter or Run/Executer)**"
   ]
  },
  {
   "cell_type": "code",
   "execution_count": 5,
   "id": "a9f06860",
   "metadata": {
    "hide_input": true
   },
   "outputs": [
    {
     "name": "stdout",
     "output_type": "stream",
     "text": [
      "Functions are Good to go\n"
     ]
    }
   ],
   "source": [
    "#coord=[x,y] in um\n",
    "def set_pos(coord):\n",
    "    core.SetMMVariable('Device.Stage.XPosition',coord[0])\n",
    "    core.SetMMVariable('Device.Stage.YPosition',coord[1])\n",
    "    core.SetMMVariable('Device.Focus.CurPos',coord[2])\n",
    "    return \n",
    "\n",
    "#add the current position to a dataframe\n",
    "def add_pos(all_pos):  \n",
    "    a,b,x=core.GetMMVariable('Device.Stage.XPosition',0)\n",
    "    a,b,y=core.GetMMVariable('Device.Stage.YPosition',0)\n",
    "    a,b,z=core.GetMMVariable('Device.Stage.CurPos',0)\n",
    "    current_pos=pd.DataFrame(np.array([[x,y,z]]),columns=['x', 'y', 'z']) \n",
    "    all_pos_updated=all_pos.append(current_pos)    \n",
    "    return all_pos_updated\n",
    "\n",
    "\n",
    "#set the wavelenght (using a predefined channel)\n",
    "def set_wl(chan):\n",
    "    core.SetMMVariable('Device.Illumination.Setting',chan) \n",
    "    return \n",
    "        \n",
    "#set exposure (number in ms)\n",
    "def set_exposure(exp):\n",
    "    core.SetMMVariable('Device.Illumination.Exposure',exp)\n",
    "    return \n",
    "\n",
    "def get_exposure():\n",
    "    a,b,exp=core.GetMMVariable('Device.Illumination.Exposure',0)\n",
    "    return exp\n",
    "\n",
    "#set the gain  \n",
    "def set_gain(g): \n",
    "    core.SetMMVariable('Device.Illumination.EMGain',g)\n",
    "    return \n",
    "\n",
    "def get_gain():\n",
    "    g=core.GetMMVariable('Device.Illumination.EMGain',0)\n",
    "    return g\n",
    "def set_laser(laser_405,laser_488,laser_561,laser_642):\n",
    "    core.SetMMVariable('Component.Laser_DAQ_Intensity_405.Position',laser_405)\n",
    "    core.SetMMVariable('Component.Laser_DAQ_Intensity_488.Position',laser_488)\n",
    "    core.SetMMVariable('Component.Laser_DAQ_Intensity_561.Position',laser_561)\n",
    "    core.SetMMVariable('Component.Laser_DAQ_Intensity_642.Position',laser_642)\n",
    "    \n",
    "#image acquisition\n",
    "def acquire(jnl_path,path_tmp):\n",
    "    #run journal doing the acquisition\n",
    "    core.RunJournal(jnl_path)\n",
    "    #open the open image as tif\n",
    "    pixvals=np.array((Image.open(path_tmp+'temp.tif')))\n",
    "    return pixvals\n",
    "\n",
    "#image acquisition + save as .tif\n",
    "def acquire_save(name,jnl_path,path_tmp):\n",
    "    #run journal doing the acquisition\n",
    "    core.RunJournal(jnl_path)\n",
    "    #open the temporary image saved as a .tif\n",
    "    pixvals=np.array((Image.open(path_tmp+'temp.tif')))\n",
    "    #save it as a definitive .tif file in the user's file location \n",
    "    tif.imwrite(name,pixvals,append=True)\n",
    "    \n",
    "#because there is an issue with the coordinate formating when doing loops \n",
    "def mat_conversion(mat): \n",
    "    x=float(mat[0])\n",
    "    y=float(mat[1])\n",
    "    z=float(mat[2])\n",
    "    return [x,y,z]\n",
    "\n",
    "#convert the values of a dataframe to a list of positions\n",
    "def dataframe_to_coordinates(df):\n",
    "    coord_m=[]\n",
    "    for n in range(df.shape[0]):\n",
    "        coord_n=[]\n",
    "        for element in df.iloc[n]:\n",
    "            coord_n.append(element)\n",
    "        coord_m.append(coord_n)\n",
    "    return coord_m\n",
    "\n",
    "# normalize a matrix by its highest value \n",
    "def normalization(matrix):\n",
    "    N,M=np.shape(matrix)\n",
    "    new_mat=np.zeros([N,M])\n",
    "    mat_max=np.amax(matrix)\n",
    "    for i in range(N):\n",
    "        for j in range(M):\n",
    "            new_mat[i][j]=matrix[i][j]/mat_max            \n",
    "    return new_mat\n",
    "\n",
    "print(\"Functions are Good to go\")"
   ]
  },
  {
   "cell_type": "markdown",
   "id": "8423aa01",
   "metadata": {},
   "source": [
    "Functions for auto-focus:\n",
    "- take 3 to 5 pictures\n",
    "- determine the Brenner gradient for each \n",
    "- fit Brenner=f(z) to a polynomial function\n",
    "- the focus corresponds to the max of the polynomial function\n",
    "\n",
    "The Brenner gradient defined as $B=\\sum_{i=1}^{N}\\sum_{j=1}^{M} (s_{i,j} - s_{i+m,j})^2$ \n",
    "\\\n",
    "with N,M the dimention of the picture, s the pixel value.\n",
    "This gradient measure the difference between a pixel and its neighbor (here, at a distance m).\n",
    "\\\n",
    "The pixel values are normalized before computation of the Brenner gradient"
   ]
  },
  {
   "cell_type": "code",
   "execution_count": 6,
   "id": "d9f0f138",
   "metadata": {
    "hide_input": true
   },
   "outputs": [
    {
     "name": "stdout",
     "output_type": "stream",
     "text": [
      "Autofocus is Good to go\n"
     ]
    }
   ],
   "source": [
    "# determine the brenner gradient of a matrix by comparing neighbors at a distance m \n",
    "def brenner(matrix,m):\n",
    "    N,M=np.shape(matrix)\n",
    "    B=0\n",
    "    for i in range(N-m):\n",
    "        for j in range(M):\n",
    "            s=matrix[i][j]\n",
    "            n=matrix[i+m][j]\n",
    "            B+=(s*n)**2\n",
    "    return B\n",
    "\n",
    "#fitting function\n",
    "def f_brenner(z,a,b,z0):\n",
    "    return a/(b+(z-z0)**4)\n",
    "\n",
    "#auto focus\n",
    "def autofocus(m):\n",
    "    a,b,x=core.GetMMVariable('Device.Stage.XPosition',0)\n",
    "    a,b,y=core.GetMMVariable('Device.Stage.YPosition',0)\n",
    "    a,b,z=core.GetMMVariable('Device.Stage.CurPos',0)\n",
    "    list_z=[z-1,z,z+1]\n",
    "    list_brenner=[]\n",
    "    for z_AF in list_z:\n",
    "        set_wl('CSUTRANS')\n",
    "        coord=[x,y,z_AF]\n",
    "        set_pos(coord)\n",
    "        image=acquire(jnl_path,path_tmp)\n",
    "        image=normalization(image)\n",
    "        B=brenner(image,m)\n",
    "        list_brenner.append(B)\n",
    "    popt,pcov=curve_fit(f_brenner,list_z,list_brenner)\n",
    "    a,b,z0=popt\n",
    "    return z0\n",
    "\n",
    "print(\"Autofocus is Good to go\")"
   ]
  },
  {
   "cell_type": "markdown",
   "id": "b2b12e97",
   "metadata": {},
   "source": [
    "# Acquisition\n",
    "currently without auto focus\n",
    "\\\n",
    "**=> Don't forget to run the cells to set the parameters (ctr+enter or Run/Executer)**"
   ]
  },
  {
   "cell_type": "markdown",
   "id": "3da9ef1f",
   "metadata": {},
   "source": [
    "Path to folder"
   ]
  },
  {
   "cell_type": "code",
   "execution_count": 5,
   "id": "5b1424a1",
   "metadata": {},
   "outputs": [],
   "source": [
    "PATH = 'D:\\\\Users\\\\Iris\\\\test python\\\\'"
   ]
  },
  {
   "cell_type": "markdown",
   "id": "a628f7b7",
   "metadata": {},
   "source": [
    "Name of the cell and plasmids (to set up the name of the files) "
   ]
  },
  {
   "cell_type": "code",
   "execution_count": 6,
   "id": "34ddabd2",
   "metadata": {},
   "outputs": [],
   "source": [
    "#cell: HT or Kras\n",
    "#plasmid: optopatch or ERKKTR\n",
    "cell='HT'\n",
    "plasmid='ERKKTR'\n",
    "iteration=0"
   ]
  },
  {
   "cell_type": "markdown",
   "id": "c07ad994",
   "metadata": {},
   "source": [
    "Lasers settings"
   ]
  },
  {
   "cell_type": "code",
   "execution_count": 7,
   "id": "be87a9d1",
   "metadata": {},
   "outputs": [],
   "source": [
    "#laser intensity: \n",
    "laser_405=0\n",
    "laser_488=40\n",
    "laser_561=16\n",
    "laser_642=0\n",
    "\n",
    "#observations and activation channels \n",
    "#channel 'CSUTRANS', 'CSU405','CSU488','CSU561','CSU640'\n",
    "wl_obs=['CSUTRANS','CSU561']\n",
    "wl_act=['CSU488']\n",
    "\n",
    "#exposure (ms)\n",
    "exp=100\n",
    "#gain \n",
    "G=400"
   ]
  },
  {
   "cell_type": "markdown",
   "id": "b33a412b",
   "metadata": {},
   "source": [
    "Time lapse settings"
   ]
  },
  {
   "cell_type": "code",
   "execution_count": 8,
   "id": "64032186",
   "metadata": {},
   "outputs": [],
   "source": [
    "'''Observation - acquisition '''\n",
    "#time step (s)\n",
    "step=6\n",
    "# total time of acquisition (s)\n",
    "t_final=60\n",
    "\n",
    "'''Activations pulses'''\n",
    "#activation\n",
    "act_pulse=1 # duration of 1 activation pulse\n",
    "act_lenght=20 #duration of total time of activation\n",
    "act_start=20 #start time of activation"
   ]
  },
  {
   "cell_type": "markdown",
   "id": "5d986fb4",
   "metadata": {},
   "source": [
    "Description "
   ]
  },
  {
   "cell_type": "code",
   "execution_count": 9,
   "id": "dae0ce00",
   "metadata": {},
   "outputs": [],
   "source": [
    "#description (text)\n",
    "D=str(laser_488)"
   ]
  },
  {
   "cell_type": "markdown",
   "id": "78c284b3",
   "metadata": {},
   "source": [
    "Run to acquire current position\n",
    "\\\n",
    "**=> Running the following cell (invisible) will create a new position folder (ctr+enter or Run/Executer)**"
   ]
  },
  {
   "cell_type": "code",
   "execution_count": 10,
   "id": "9c0f3490",
   "metadata": {
    "hide_input": true
   },
   "outputs": [
    {
     "ename": "NameError",
     "evalue": "name 'PATH' is not defined",
     "output_type": "error",
     "traceback": [
      "\u001b[1;31m---------------------------------------------------------------------------\u001b[0m",
      "\u001b[1;31mNameError\u001b[0m                                 Traceback (most recent call last)",
      "\u001b[1;32m~\\AppData\\Local\\Temp\\ipykernel_16320\\76677078.py\u001b[0m in \u001b[0;36m<module>\u001b[1;34m\u001b[0m\n\u001b[0;32m      1\u001b[0m \u001b[1;31m#file name\u001b[0m\u001b[1;33m\u001b[0m\u001b[1;33m\u001b[0m\u001b[1;33m\u001b[0m\u001b[0m\n\u001b[0;32m      2\u001b[0m \u001b[0mname\u001b[0m\u001b[1;33m=\u001b[0m\u001b[1;34m'current_position'\u001b[0m\u001b[1;33m\u001b[0m\u001b[1;33m\u001b[0m\u001b[0m\n\u001b[1;32m----> 3\u001b[1;33m \u001b[0mname\u001b[0m\u001b[1;33m=\u001b[0m\u001b[0mPATH\u001b[0m\u001b[1;33m+\u001b[0m\u001b[0mname\u001b[0m\u001b[1;33m+\u001b[0m\u001b[1;34m'.csv'\u001b[0m\u001b[1;33m\u001b[0m\u001b[1;33m\u001b[0m\u001b[0m\n\u001b[0m\u001b[0;32m      4\u001b[0m \u001b[0mpos_experiment\u001b[0m\u001b[1;33m=\u001b[0m\u001b[0mpd\u001b[0m\u001b[1;33m.\u001b[0m\u001b[0mDataFrame\u001b[0m\u001b[1;33m(\u001b[0m\u001b[0mnp\u001b[0m\u001b[1;33m.\u001b[0m\u001b[0marray\u001b[0m\u001b[1;33m(\u001b[0m\u001b[1;33m[\u001b[0m\u001b[1;33m[\u001b[0m\u001b[1;36m0\u001b[0m\u001b[1;33m,\u001b[0m\u001b[1;36m0\u001b[0m\u001b[1;33m,\u001b[0m\u001b[1;36m0\u001b[0m\u001b[1;33m]\u001b[0m\u001b[1;33m]\u001b[0m\u001b[1;33m)\u001b[0m\u001b[1;33m,\u001b[0m\u001b[0mcolumns\u001b[0m\u001b[1;33m=\u001b[0m\u001b[1;33m[\u001b[0m\u001b[1;34m'x'\u001b[0m\u001b[1;33m,\u001b[0m \u001b[1;34m'y'\u001b[0m\u001b[1;33m,\u001b[0m \u001b[1;34m'z'\u001b[0m\u001b[1;33m]\u001b[0m\u001b[1;33m)\u001b[0m\u001b[1;33m\u001b[0m\u001b[1;33m\u001b[0m\u001b[0m\n\u001b[0;32m      5\u001b[0m \u001b[0mpos_experiment\u001b[0m\u001b[1;33m.\u001b[0m\u001b[0mdrop\u001b[0m\u001b[1;33m(\u001b[0m\u001b[1;33m[\u001b[0m\u001b[1;36m0\u001b[0m\u001b[1;33m]\u001b[0m\u001b[1;33m,\u001b[0m \u001b[0minplace\u001b[0m \u001b[1;33m=\u001b[0m \u001b[1;32mTrue\u001b[0m\u001b[1;33m)\u001b[0m\u001b[1;33m\u001b[0m\u001b[1;33m\u001b[0m\u001b[0m\n",
      "\u001b[1;31mNameError\u001b[0m: name 'PATH' is not defined"
     ]
    }
   ],
   "source": [
    "#file name \n",
    "name='current_position'\n",
    "name=PATH+name+'.csv'\n",
    "pos_experiment=pd.DataFrame(np.array([[0,0,0]]),columns=['x', 'y', 'z'])\n",
    "pos_experiment.drop([0], inplace = True)\n",
    "print(\"new file created and Good to go\") "
   ]
  },
  {
   "cell_type": "code",
   "execution_count": 12,
   "id": "5e48249c",
   "metadata": {},
   "outputs": [],
   "source": [
    "# to run to add a new position\n",
    "pos_experiment=add_pos(pos_experiment)\n",
    "pos_experiment.to_csv(name, index = False)"
   ]
  },
  {
   "cell_type": "markdown",
   "id": "e521a0b5",
   "metadata": {},
   "source": [
    "Summary of parameters\n",
    "\\\n",
    "**=> Run the following cell to print out the parameters (ctr+enter or Run/Executer)**"
   ]
  },
  {
   "cell_type": "code",
   "execution_count": 11,
   "id": "0e82dd94",
   "metadata": {
    "hide_input": true,
    "scrolled": true
   },
   "outputs": [
    {
     "ename": "NameError",
     "evalue": "name 'cell' is not defined",
     "output_type": "error",
     "traceback": [
      "\u001b[1;31m---------------------------------------------------------------------------\u001b[0m",
      "\u001b[1;31mNameError\u001b[0m                                 Traceback (most recent call last)",
      "\u001b[1;32m~\\AppData\\Local\\Temp\\ipykernel_16320\\474068091.py\u001b[0m in \u001b[0;36m<module>\u001b[1;34m\u001b[0m\n\u001b[0;32m      2\u001b[0m \u001b[1;31m#PATH = 'D:\\\\Users\\Iris\\observation_290322\\\\'+cell+'_'+plasmid+'\\\\laser power\\\\'+str(laser)+'\\\\'\u001b[0m\u001b[1;33m\u001b[0m\u001b[1;33m\u001b[0m\u001b[1;33m\u001b[0m\u001b[0m\n\u001b[0;32m      3\u001b[0m \u001b[1;31m#individual file name\u001b[0m\u001b[1;33m\u001b[0m\u001b[1;33m\u001b[0m\u001b[1;33m\u001b[0m\u001b[0m\n\u001b[1;32m----> 4\u001b[1;33m \u001b[0mname\u001b[0m\u001b[1;33m=\u001b[0m\u001b[0mcell\u001b[0m\u001b[1;33m+\u001b[0m\u001b[1;34m'_'\u001b[0m\u001b[1;33m+\u001b[0m\u001b[0mplasmid\u001b[0m\u001b[1;33m+\u001b[0m\u001b[1;34m'_'\u001b[0m\u001b[1;33m+\u001b[0m\u001b[0mstr\u001b[0m\u001b[1;33m(\u001b[0m\u001b[0mlaser_488\u001b[0m\u001b[1;33m)\u001b[0m\u001b[1;33m+\u001b[0m\u001b[1;34m'_'\u001b[0m\u001b[1;33m+\u001b[0m\u001b[0mstr\u001b[0m\u001b[1;33m(\u001b[0m\u001b[0miteration\u001b[0m\u001b[1;33m)\u001b[0m\u001b[1;33m+\u001b[0m\u001b[1;34m'_'\u001b[0m\u001b[1;33m\u001b[0m\u001b[1;33m\u001b[0m\u001b[0m\n\u001b[0m\u001b[0;32m      5\u001b[0m \u001b[0mname\u001b[0m\u001b[1;33m=\u001b[0m\u001b[0mPATH\u001b[0m\u001b[1;33m+\u001b[0m\u001b[0mname\u001b[0m\u001b[1;33m\u001b[0m\u001b[1;33m\u001b[0m\u001b[0m\n\u001b[0;32m      6\u001b[0m \u001b[0mprint\u001b[0m\u001b[1;33m(\u001b[0m\u001b[1;34m'File name: '\u001b[0m\u001b[1;33m,\u001b[0m\u001b[0mname\u001b[0m\u001b[1;33m)\u001b[0m\u001b[1;33m\u001b[0m\u001b[1;33m\u001b[0m\u001b[0m\n",
      "\u001b[1;31mNameError\u001b[0m: name 'cell' is not defined"
     ]
    }
   ],
   "source": [
    "# path to folder \\\n",
    "#PATH = 'D:\\\\Users\\Iris\\observation_290322\\\\'+cell+'_'+plasmid+'\\\\laser power\\\\'+str(laser)+'\\\\'\n",
    "#individual file name \n",
    "name=cell+'_'+plasmid+'_'+str(laser_488)+'_'+str(iteration)+'_'\n",
    "name=PATH+name\n",
    "print('File name: ',name)\n",
    "\n",
    "print('total acquisition duration: ',t_final,'s - time steps: ',step,'s')\n",
    "\n",
    "t_activation=[act_start+t for t in range(0,act_lenght,act_pulse)]\n",
    "if wl_act:\n",
    "    print('activation steps: ',t_activation)\n",
    "print('observation wavelenght: ',wl_obs,'- activation wavelenght: ',wl_act,)\n",
    "print('Lasers intensities: 405=',laser_405,' - 488=',laser_488,' - 561=',laser_561,' - 642=', laser_642)\n",
    "print('Exposure: ',exp)\n",
    "print('Gain: ',G)\n",
    "#coordinates ([x,y,z]) - from file \n",
    "file_name_csv='current_position'\n",
    "pos_csv=pd.read_csv(PATH+file_name_csv+'.csv')\n",
    "coord_m=dataframe_to_coordinates(pos_csv)\n",
    "print('coordinates:')\n",
    "display(coord_m)\n",
    "\n"
   ]
  },
  {
   "cell_type": "markdown",
   "id": "91f322a4",
   "metadata": {},
   "source": [
    "Acquisition\n",
    "\\\n",
    "**=> Run the following cell to launch the acquisition (ctr+enter or Run/Executer)**"
   ]
  },
  {
   "cell_type": "code",
   "execution_count": 14,
   "id": "552ec81b",
   "metadata": {
    "hide_input": false
   },
   "outputs": [
    {
     "name": "stdout",
     "output_type": "stream",
     "text": [
      "obs 0\n",
      "obs 0\n",
      "obs 0\n",
      "obs 0\n",
      "obs 7\n",
      "obs 7\n",
      "obs 7\n",
      "obs 7\n",
      "obs 15\n",
      "obs 15\n",
      "obs 15\n",
      "obs 15\n",
      "=> => => act 22\n",
      "obs 22\n",
      "obs 22\n",
      "obs 22\n",
      "obs 22\n",
      "=> => => act 30\n",
      "obs 30\n",
      "obs 30\n",
      "obs 30\n",
      "obs 30\n",
      "=> => => act 30\n",
      "obs 30\n",
      "obs 30\n",
      "obs 30\n",
      "obs 30\n",
      "obs 47\n",
      "obs 47\n",
      "obs 47\n",
      "obs 47\n",
      "obs 47\n",
      "obs 47\n",
      "obs 47\n",
      "obs 47\n",
      "obs 62\n",
      "obs 62\n",
      "obs 62\n",
      "obs 62\n",
      "obs 62\n",
      "obs 62\n",
      "obs 62\n",
      "obs 62\n",
      "obs 62\n",
      "obs 62\n",
      "obs 62\n",
      "obs 62\n"
     ]
    }
   ],
   "source": [
    "'''script'''\n",
    "t0=round(time.time())\n",
    "time_points_obs=np.array([round(t0+t) for t in range(0,t_final+1,step)])\n",
    "time_points_act=[round(t0+t) for t in t_activation]\n",
    "local_time=round(time.time())\n",
    "counter=0\n",
    "while counter<len(time_points_obs):\n",
    "    for point in time_points_obs:\n",
    "        while local_time<point:\n",
    "            local_time=round(time.time())\n",
    "            time.sleep(0.5)\n",
    "        #set up the microscope:\n",
    "        set_laser(laser_405,laser_488,laser_561,laser_642)\n",
    "        set_exposure(exp)\n",
    "        set_gain(G)\n",
    "        if local_time in time_points_act:\n",
    "            if wl_act: #check that an activation has been set up \n",
    "                set_wl(wl_act[0])\n",
    "                acquire(jnl_path,path_tmp)\n",
    "                print('=> => => act',local_time-t0)\n",
    "        for n in range(len(coord_m)):\n",
    "            coord=mat_conversion(coord_m[n])\n",
    "            set_pos(coord)\n",
    "            for m in range(len(wl_obs)):\n",
    "                wl=wl_obs[m]\n",
    "                set_wl(wl)\n",
    "                T=local_time-t0\n",
    "                print('obs',T)\n",
    "                # save meta data for the acquisition\n",
    "                coord_str='x='+str(coord[0])+', y='+str(coord[1])+', z='+str(coord[2])\n",
    "                if wl_act:\n",
    "                    MD=np.array(['Position: '+coord_str,'Acquisition Channel: '+wl,'Activation Channel: '+wl_act[0],'Exposure: '+str(exp),'Gain: '+str(G),'Laser Intensity 405: '+str(laser_405),'Laser Intensity 488: '+str(laser_488),'Laser Intensity 561: '+str(laser_561),'Laser Intensity 642: '+str(laser_642),'Description: '+str(D)])\n",
    "                else:\n",
    "                    MD=np.array(['Position: '+coord_str,'Acquisition Channel: '+wl,'Exposure: '+str(exp),'Gain: '+str(G),'Laser Intensity 405: '+str(laser_405),'Laser Intensity 488: '+str(laser_488),'Laser Intensity 561: '+str(laser_561),'Laser Intensity 642: '+str(laser_642),'Description: '+str(D)])\n",
    "                MD_name=name+'pos'+str(n)+'_wl'+str(wl)+'_metadata.txt'\n",
    "                with open(MD_name, 'w') as f:\n",
    "                    for line in MD:\n",
    "                        f.write(line)\n",
    "                        f.write('\\n')\n",
    "                #save individual image\n",
    "                name_n=name+'pos'+str(n)+'_'+'wl'+str(wl)+'_'+str(T)\n",
    "                acquire_save(name_n,jnl_path,path_tmp)\n",
    "                # save timelapse as stack \n",
    "                stack_name_n=name+'pos'+str(n)+'_'+'wl'+str(wl)+'.tif'\n",
    "                acquire_save(stack_name_n,jnl_path,path_tmp)\n",
    "                counter+=1"
   ]
  },
  {
   "cell_type": "code",
   "execution_count": null,
   "id": "675e627f",
   "metadata": {},
   "outputs": [],
   "source": []
  }
 ],
 "metadata": {
  "kernelspec": {
   "display_name": "Python 3 (ipykernel)",
   "language": "python",
   "name": "python3"
  },
  "language_info": {
   "codemirror_mode": {
    "name": "ipython",
    "version": 3
   },
   "file_extension": ".py",
   "mimetype": "text/x-python",
   "name": "python",
   "nbconvert_exporter": "python",
   "pygments_lexer": "ipython3",
   "version": "3.7.6"
  }
 },
 "nbformat": 4,
 "nbformat_minor": 5
}
