{
 "cells": [
  {
   "cell_type": "markdown",
   "id": "961be65e",
   "metadata": {},
   "source": [
    "# Functions to control MetaMorph from python"
   ]
  },
  {
   "cell_type": "markdown",
   "id": "b0680b62",
   "metadata": {},
   "source": [
    "### Connecting to MetaMorph and setting up"
   ]
  },
  {
   "cell_type": "code",
   "execution_count": 1,
   "id": "7c650ef2",
   "metadata": {},
   "outputs": [
    {
     "ename": "FileNotFoundException",
     "evalue": "Unable to find assembly 'D:\\Users\\Iris\\Interop.MMAppLib.dll'.\n   at Python.Runtime.CLRModule.AddReference(String name)",
     "output_type": "error",
     "traceback": [
      "\u001b[1;31m---------------------------------------------------------------------------\u001b[0m",
      "\u001b[1;31mFileNotFoundException\u001b[0m                     Traceback (most recent call last)",
      "\u001b[1;32m~\\AppData\\Local\\Temp\\ipykernel_14268\\3802011784.py\u001b[0m in \u001b[0;36m<module>\u001b[1;34m\u001b[0m\n\u001b[0;32m      1\u001b[0m \u001b[1;32mimport\u001b[0m \u001b[0mclr\u001b[0m\u001b[1;33m\u001b[0m\u001b[1;33m\u001b[0m\u001b[0m\n\u001b[1;32m----> 2\u001b[1;33m \u001b[0mclr\u001b[0m\u001b[1;33m.\u001b[0m\u001b[0mAddReference\u001b[0m\u001b[1;33m(\u001b[0m\u001b[1;34m'D:\\\\Users\\\\Iris\\\\Interop.MMAppLib.dll'\u001b[0m\u001b[1;33m)\u001b[0m \u001b[1;31m#indicate path to .DLL library\u001b[0m\u001b[1;33m\u001b[0m\u001b[1;33m\u001b[0m\u001b[0m\n\u001b[0m\u001b[0;32m      3\u001b[0m \u001b[1;32mimport\u001b[0m \u001b[0mMMAppLib\u001b[0m\u001b[1;33m\u001b[0m\u001b[1;33m\u001b[0m\u001b[0m\n\u001b[0;32m      4\u001b[0m \u001b[0mcore\u001b[0m\u001b[1;33m=\u001b[0m\u001b[0mMMAppLib\u001b[0m\u001b[1;33m.\u001b[0m\u001b[0mUserCallClass\u001b[0m\u001b[1;33m(\u001b[0m\u001b[1;33m)\u001b[0m\u001b[1;33m\u001b[0m\u001b[1;33m\u001b[0m\u001b[0m\n\u001b[0;32m      5\u001b[0m \u001b[1;31m#print(dir(core))\u001b[0m\u001b[1;33m\u001b[0m\u001b[1;33m\u001b[0m\u001b[1;33m\u001b[0m\u001b[0m\n",
      "\u001b[1;31mFileNotFoundException\u001b[0m: Unable to find assembly 'D:\\Users\\Iris\\Interop.MMAppLib.dll'.\n   at Python.Runtime.CLRModule.AddReference(String name)"
     ]
    }
   ],
   "source": [
    "import clr\n",
    "clr.AddReference('D:\\\\Users\\\\Iris\\\\Interop.MMAppLib.dll') #indicate path to .DLL library\n",
    "import MMAppLib\n",
    "core=MMAppLib.UserCallClass()\n",
    "#print(dir(core))\n",
    "jnl_path='C:\\\\MM\\\\app\\\\mmproc\\\\journals\\\\s.JNL' # path to the journal taking a snapshot and saving it somewhere\n",
    "path_tmp='C:\\\\TEMP\\\\' #location of the temporary image file generated during acquisition - can be modified in MM"
   ]
  },
  {
   "cell_type": "markdown",
   "id": "5de71095",
   "metadata": {},
   "source": [
    "### Setting up the microscope - core.SetMMVariable"
   ]
  },
  {
   "cell_type": "code",
   "execution_count": null,
   "id": "0c6740ae",
   "metadata": {},
   "outputs": [],
   "source": [
    "# Set coordinates (int or float)\n",
    "core.SetMMVariable('Device.Stage.XPosition',x)\n",
    "core.SetMMVariable('Device.Stage.YPosition',y)\n",
    "core.SetMMVariable('Device.Focus.CurPos',z)\n",
    "\n",
    "# set observation channel (string)\n",
    "# on the Spinning disk, the channels availables are 'CSUTRANS', 'CSU405','CSU488','CSU561','CSU640'...\n",
    "core.SetMMVariable('Device.Illumination.Setting',channel)\n",
    "\n",
    "#set the exposure (int or float)\n",
    "core.SetMMVariable('Device.Illumination.Exposure',exposure)\n",
    "\n",
    "#set the gain (int or float)\n",
    "core.SetMMVariable('Device.Illumination.EMGain',gain)\n",
    "\n",
    "#set the lasers intensities (int or float, %)\n",
    "core.SetMMVariable('Component.Laser_DAQ_Intensity_405.Position',laser_405)\n",
    "core.SetMMVariable('Component.Laser_DAQ_Intensity_488.Position',laser_488)\n",
    "core.SetMMVariable('Component.Laser_DAQ_Intensity_561.Position',laser_561)\n",
    "core.SetMMVariable('Component.Laser_DAQ_Intensity_642.Position',laser_642)"
   ]
  },
  {
   "cell_type": "markdown",
   "id": "64ff7891",
   "metadata": {},
   "source": [
    "### Getting the current set up from the microscope - core.GetMMVariable"
   ]
  },
  {
   "cell_type": "code",
   "execution_count": null,
   "id": "ca40d6ae",
   "metadata": {},
   "outputs": [],
   "source": [
    "# Get current coordinates \n",
    "# the coordinates are the 3rd value returned by the command \n",
    "a,b,x=core.GetMMVariable('Device.Stage.XPosition',0)\n",
    "a,b,y=core.GetMMVariable('Device.Stage.YPosition',0)\n",
    "a,b,z=core.GetMMVariable('Device.Stage.CurPos',0)\n",
    "\n",
    "#same logic for the other variables: \n",
    "a,b,exposure=core.GetMMVariable('Device.Illumination.Exposure',0)\n",
    "gain=core.GetMMVariable('Device.Illumination.EMGain',0)\n",
    "I_405=core.GetMMVariable('Component.Laser_DAQ_Intensity_405.Position',0)\n",
    "I_488=core.GetMMVariable('Component.Laser_DAQ_Intensity_488.Position',0)\n",
    "I_561=core.GetMMVariable('Component.Laser_DAQ_Intensity_561.Position',0)\n",
    "I_640=core.GetMMVariable('Component.Laser_DAQ_Intensity_641.Position',0)"
   ]
  },
  {
   "cell_type": "markdown",
   "id": "2741a3d4",
   "metadata": {},
   "source": [
    "### Image acquisition"
   ]
  },
  {
   "cell_type": "code",
   "execution_count": null,
   "id": "7a8d135b",
   "metadata": {},
   "outputs": [],
   "source": [
    "#run journal doing the acquisition\n",
    "core.RunJournal(jnl_path)\n",
    "#open the open image as tif\n",
    "pixvals=np.array((Image.open(path_tmp+'temp.tif'))) #the image is coded as a matrix of intensities "
   ]
  },
  {
   "cell_type": "markdown",
   "id": "70edb229",
   "metadata": {},
   "source": [
    "The core.RunJournal(jnl_path) can run any journal. In the case of an image image acquisition, the path leads to a journal doing a single acquistion. \n",
    "This can be changed by specifying a different journal path"
   ]
  }
 ],
 "metadata": {
  "kernelspec": {
   "display_name": "Python 3 (ipykernel)",
   "language": "python",
   "name": "python3"
  },
  "language_info": {
   "codemirror_mode": {
    "name": "ipython",
    "version": 3
   },
   "file_extension": ".py",
   "mimetype": "text/x-python",
   "name": "python",
   "nbconvert_exporter": "python",
   "pygments_lexer": "ipython3",
   "version": "3.7.6"
  }
 },
 "nbformat": 4,
 "nbformat_minor": 5
}
