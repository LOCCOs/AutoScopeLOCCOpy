{
 "cells": [
  {
   "cell_type": "markdown",
   "id": "68fed188",
   "metadata": {},
   "source": [
    "# MetaMorph Controler (python) "
   ]
  },
  {
   "cell_type": "markdown",
   "id": "e35ffb6a",
   "metadata": {},
   "source": [
    "### INSTALLATION INSTRUCTIONS: \n",
    "- must download the script\n",
    "- must download the Interop.MMAppLib.dll - Dll library allowing python to connect to MetaMorph to control the microscope\n",
    "- must have MetaMorph running on the computer \n",
    "\n",
    "IMPORTANT LIBRARIES: \n",
    "matplotlib.pyplot, numpy, math, time, pandas,scipy.optimize, tifffile, PIL, json, PIL.TiffTags"
   ]
  },
  {
   "cell_type": "markdown",
   "id": "ab32c953",
   "metadata": {},
   "source": [
    "### SETTING UP BEFORE FIRST USE: \n",
    "The acquisition of images is done by running a MetaMorph journal doing 1 acquisition.\n",
    "\\\n",
    "If this journal does not exist, it must be created within MetaMorph. Once this journal exists, copy the path to the journal in the script (Connecting Metamorph => ex: 'C:\\\\MM\\\\app\\\\mmproc\\\\journals\\\\s.JNL').\n",
    "\\\n",
    "You must also indicate the path to the file where MetaMorph saves its temporay images (Connecting Metamorph => ex: path_tmp='C:\\\\TEMP\\\\\".\n",
    "\\\n",
    "You also want to check the names of the channels and the wavelenghts availables on your microscope. If the wavelenghts aren't 405nm, 488nm, 561nm and 642nm, you will need to modify the 'Component.Laser_DAQ_Intensity_405.Position' variables in the set_laser function."
   ]
  },
  {
   "cell_type": "markdown",
   "id": "3bf6eed6",
   "metadata": {},
   "source": [
    "### DATA FORMAT\n",
    "\n",
    "The images are as stack .tif files.\n",
    "\\\n",
    "The meta data for each stack is saved as a .txt file independtly from the stack file.\n",
    "\\\n",
    "The positions are save in a .csv file (table, readable using a text app or excel). \n"
   ]
  },
  {
   "cell_type": "markdown",
   "id": "45c897f4",
   "metadata": {},
   "source": [
    "### FOR FIRST TIME PYTHON USERS: \n",
    "\n",
    "Each square containing either some text or code is called a \"cell\". You can execute the cell by clicking on the Run button on the controk bar at the top of the page or using the ctr+enter command. \n",
    "Before setting up an acquision, make sure to have correctly imported the DLL, libraries and functions (you should have some text appearing when you run those specific cells such as \"Good to go\"). \n",
    "\\\n",
    "Once all the libraries and functions are charged, you can set up your acquisition by changing the parameters. \n",
    "\n",
    "\n",
    "The script is set up to acquire timelapse on one position, with one wavelenght. You can also add an activation step (laser pulse). The aquisition and activation time steps can be defined either with parameters or  by importing lists.\n",
    "\n",
    "You can also write your own script based on the same logic. Don't hesitate to explore the list of function and the script encoding the acquisition to write your own. The functions are available independently in the MM_function file\n"
   ]
  },
  {
   "cell_type": "markdown",
   "id": "e71177bb",
   "metadata": {},
   "source": [
    "### IMPORTANT: Make sure to close the MetaMorph live window before launching your acquisition. Leaving the MetaMorph live window open might resutls in MetaMorph crashing down.\n",
    "If MetaMorph shuts down, just restarts it. Make sure to restart the script as well and to reconnect the DLL. "
   ]
  }
 ],
 "metadata": {
  "kernelspec": {
   "display_name": "Python 3 (ipykernel)",
   "language": "python",
   "name": "python3"
  },
  "language_info": {
   "codemirror_mode": {
    "name": "ipython",
    "version": 3
   },
   "file_extension": ".py",
   "mimetype": "text/x-python",
   "name": "python",
   "nbconvert_exporter": "python",
   "pygments_lexer": "ipython3",
   "version": "3.7.6"
  }
 },
 "nbformat": 4,
 "nbformat_minor": 5
}
