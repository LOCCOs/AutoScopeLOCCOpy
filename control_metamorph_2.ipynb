{
 "cells": [
  {
   "cell_type": "markdown",
   "id": "44a21548",
   "metadata": {},
   "source": [
    "# Metamorpher controler \n",
    "This python script connects jupyther to Metamorph and allows the user to control the microscope through python scripts instead of journals.\n",
    "\\\n",
    "**For the user: it is important to run (ctr+enter) all the following cells (connecting MetaMorph, Other useful tools) before launching an acquisition - they should print out \"Good to go\"**"
   ]
  },
  {
   "cell_type": "markdown",
   "id": "65418bf4",
   "metadata": {},
   "source": [
    "### Connecting MetaMorph\n",
    "Import the clr library and the dll library\n",
    "\\\n",
    "Add the path to the acquisition journal and the folder were the temporary images are store\n",
    "\\\n",
    "**=> Run the following cell (ctr+enter or Run/Executer)**"
   ]
  },
  {
   "cell_type": "code",
   "execution_count": 186,
   "id": "02475b01",
   "metadata": {
    "hide_input": false
   },
   "outputs": [
    {
     "name": "stdout",
     "output_type": "stream",
     "text": [
      "Good to go\n"
     ]
    }
   ],
   "source": [
    "import clr\n",
    "clr.AddReference('D:\\\\Users\\\\Iris\\\\Interop.MMAppLib.dll')\n",
    "import MMAppLib\n",
    "core=MMAppLib.UserCallClass()\n",
    "#print(dir(core))\n",
    "jnl_path='C:\\\\MM\\\\app\\\\mmproc\\\\journals\\\\s.JNL' # path to the journal taking a snapshot and saving it somewhere\n",
    "path_tmp='C:\\\\TEMP\\\\' #location of the temporary image file generated during acquisition - can be modified in MM\n",
    "print(\"Good to go\")"
   ]
  },
  {
   "cell_type": "markdown",
   "id": "9cf54f1b",
   "metadata": {},
   "source": [
    "### Other useful tools: libraries and functions"
   ]
  },
  {
   "cell_type": "markdown",
   "id": "4aaa210b",
   "metadata": {},
   "source": [
    "Import other useful libraries"
   ]
  },
  {
   "cell_type": "code",
   "execution_count": 187,
   "id": "bfaa56ee",
   "metadata": {
    "hide_input": false,
    "scrolled": true,
    "tags": [
     "hide_input"
    ]
   },
   "outputs": [
    {
     "name": "stdout",
     "output_type": "stream",
     "text": [
      "Libraries are Good to go\n"
     ]
    }
   ],
   "source": [
    "# libraries \n",
    "import matplotlib.pyplot as plt\n",
    "import numpy as np\n",
    "import math \n",
    "import time\n",
    "import tifffile as tif\n",
    "from PIL import Image\n",
    "import pandas as pd\n",
    "import json\n",
    "from PIL.TiffTags import TAGS\n",
    "import PIL\n",
    "from scipy.optimize import curve_fit\n",
    "\n",
    "print(\"Libraries are Good to go\")"
   ]
  },
  {
   "cell_type": "markdown",
   "id": "ec7c3764",
   "metadata": {
    "hide_input": true
   },
   "source": [
    "Tool functions:\n",
    "- set_pos: set the position of the microscope from predetermined coordinates \n",
    "- add_pos: add current position to a dataframe \n",
    "- set_wl: select the wavelenght channel \n",
    "- set_exposure: set the exposure (ms) \n",
    "- get_exposure: get the value of current exposure\n",
    "- set_gain: set the gain\n",
    "- set_laser: set the intensities of the lasers \n",
    "- acquire: acquire an image and retrun it as a matrix of intensity values - can be used as an illumination function for activation\n",
    "- save_meta: acquire 2 files: the image as a .tif file and the meta data as a .txt file\n",
    "+ other uselful tool functions to deal with matrices \n",
    "\n",
    "\n",
    "**=> Run the following cell (ctr+enter or Run/Executer)**"
   ]
  },
  {
   "cell_type": "code",
   "execution_count": 188,
   "id": "a9f06860",
   "metadata": {
    "hide_input": false
   },
   "outputs": [
    {
     "name": "stdout",
     "output_type": "stream",
     "text": [
      "Functions are Good to go\n"
     ]
    }
   ],
   "source": [
    "#coord=[x,y] in um\n",
    "def set_pos(coord):\n",
    "    core.SetMMVariable('Device.Stage.XPosition',coord[0])\n",
    "    core.SetMMVariable('Device.Stage.YPosition',coord[1])\n",
    "    core.SetMMVariable('Device.Focus.CurPos',coord[2])\n",
    "    return \n",
    "\n",
    "#add the current position to a dataframe\n",
    "def add_pos(all_pos):  \n",
    "    a,b,x=core.GetMMVariable('Device.Stage.XPosition',0)\n",
    "    a,b,y=core.GetMMVariable('Device.Stage.YPosition',0)\n",
    "    a,b,z=core.GetMMVariable('Device.Stage.CurPos',0)\n",
    "    current_pos=pd.DataFrame(np.array([[x,y,z]]),columns=['x', 'y', 'z']) \n",
    "    all_pos_updated=all_pos.append(current_pos)    \n",
    "    return all_pos_updated\n",
    "\n",
    "\n",
    "#set the wavelenght (using a predefined channel)\n",
    "def set_wl(chan):\n",
    "    core.SetMMVariable('Device.Illumination.Setting',chan) \n",
    "    return \n",
    "        \n",
    "#set exposure (number in ms)\n",
    "def set_exposure(exp):\n",
    "    core.SetMMVariable('Device.Illumination.Exposure',exp)\n",
    "    return \n",
    "\n",
    "def get_exposure():\n",
    "    a,b,exp=core.GetMMVariable('Device.Illumination.Exposure',0)\n",
    "    return exp\n",
    "\n",
    "#set the gain  \n",
    "def set_gain(g): \n",
    "    core.SetMMVariable('Device.Illumination.EMGain',g)\n",
    "    return \n",
    "\n",
    "def get_gain():\n",
    "    g=core.GetMMVariable('Device.Illumination.EMGain',0)\n",
    "    return g\n",
    "def set_laser(laser_405,laser_488,laser_561,laser_642):\n",
    "    core.SetMMVariable('Component.Laser_DAQ_Intensity_405.Position',laser_405)\n",
    "    core.SetMMVariable('Component.Laser_DAQ_Intensity_488.Position',laser_488)\n",
    "    core.SetMMVariable('Component.Laser_DAQ_Intensity_561.Position',laser_561)\n",
    "    core.SetMMVariable('Component.Laser_DAQ_Intensity_642.Position',laser_642)\n",
    "    \n",
    "#image acquisition\n",
    "def acquire(jnl_path,path_tmp):\n",
    "    #run journal doing the acquisition\n",
    "    core.RunJournal(jnl_path)\n",
    "    #open the open image as tif\n",
    "    pixvals=np.array((Image.open(path_tmp+'temp.tif')))\n",
    "    return pixvals\n",
    "\n",
    "#image acquisition + save as .tif\n",
    "def acquire_save(name,jnl_path,path_tmp):\n",
    "    #run journal doing the acquisition\n",
    "    core.RunJournal(jnl_path)\n",
    "    #open the temporary image saved as a .tif\n",
    "    pixvals=np.array((Image.open(path_tmp+'temp.tif')))\n",
    "    #save it as a definitive .tif file in the user's file location \n",
    "    tif.imwrite(name,pixvals,append=True)\n",
    "    \n",
    "#because there is an issue with the coordinate formating when doing loops \n",
    "def mat_conversion(mat): \n",
    "    x=float(mat[0])\n",
    "    y=float(mat[1])\n",
    "    z=float(mat[2])\n",
    "    return [x,y,z]\n",
    "\n",
    "#convert the values of a dataframe to a list of positions\n",
    "def dataframe_to_coordinates(df):\n",
    "    coord_m=[]\n",
    "    for n in range(df.shape[0]):\n",
    "        coord_n=[]\n",
    "        for element in df.iloc[n]:\n",
    "            coord_n.append(element)\n",
    "        coord_m.append(coord_n)\n",
    "    return coord_m\n",
    "\n",
    "# normalize a matrix by its highest value \n",
    "def normalization(matrix):\n",
    "    N,M=np.shape(matrix)\n",
    "    new_mat=np.zeros([N,M])\n",
    "    mat_max=np.amax(matrix)\n",
    "    for i in range(N):\n",
    "        for j in range(M):\n",
    "            new_mat[i][j]=matrix[i][j]/mat_max            \n",
    "    return new_mat\n",
    "\n",
    "print(\"Functions are Good to go\")"
   ]
  },
  {
   "cell_type": "markdown",
   "id": "8423aa01",
   "metadata": {},
   "source": [
    "Functions for auto-focus:\n",
    "- take 3 to 5 pictures\n",
    "- determine the Brenner gradient for each \n",
    "- fit Brenner=f(z) to a polynomial function\n",
    "- the focus corresponds to the max of the polynomial function\n",
    "\n",
    "The Brenner gradient defined as $B=\\sum_{i=1}^{N}\\sum_{j=1}^{M} (s_{i,j} - s_{i+m,j})^2$ \n",
    "\\\n",
    "with N,M the dimention of the picture, s the pixel value.\n",
    "This gradient measure the difference between a pixel and its neighbor (here, at a distance m).\n",
    "\\\n",
    "The pixel values are normalized before computation of the Brenner gradient"
   ]
  },
  {
   "cell_type": "code",
   "execution_count": 189,
   "id": "d9f0f138",
   "metadata": {
    "hide_input": true
   },
   "outputs": [
    {
     "name": "stdout",
     "output_type": "stream",
     "text": [
      "Autofocus is Good to go\n"
     ]
    }
   ],
   "source": [
    "# determine the brenner gradient of a matrix by comparing neighbors at a distance m \n",
    "def brenner(matrix,m):\n",
    "    N,M=np.shape(matrix)\n",
    "    B=0\n",
    "    for i in range(N-m):\n",
    "        for j in range(M):\n",
    "            s=matrix[i][j]\n",
    "            n=matrix[i+m][j]\n",
    "            B+=(s*n)**2\n",
    "    return B\n",
    "\n",
    "#fitting function\n",
    "def f_brenner(z,a,b,z0):\n",
    "    return a/(b+(z-z0)**4)\n",
    "\n",
    "#auto focus\n",
    "def autofocus(m):\n",
    "    a,b,x=core.GetMMVariable('Device.Stage.XPosition',0)\n",
    "    a,b,y=core.GetMMVariable('Device.Stage.YPosition',0)\n",
    "    a,b,z=core.GetMMVariable('Device.Stage.CurPos',0)\n",
    "    list_z=[z-1,z,z+1]\n",
    "    list_brenner=[]\n",
    "    for z_AF in list_z:\n",
    "        set_wl('CSUTRANS')\n",
    "        coord=[x,y,z_AF]\n",
    "        set_pos(coord)\n",
    "        image=acquire(jnl_path,path_tmp)\n",
    "        image=normalization(image)\n",
    "        B=brenner(image,m)\n",
    "        list_brenner.append(B)\n",
    "    popt,pcov=curve_fit(f_brenner,list_z,list_brenner)\n",
    "    a,b,z0=popt\n",
    "    return z0\n",
    "\n",
    "print(\"Autofocus is Good to go\")"
   ]
  },
  {
   "cell_type": "markdown",
   "id": "b2b12e97",
   "metadata": {},
   "source": [
    "# Acquisition\n",
    "currently without auto focus\n",
    "\\\n",
    "**=> Don't forget to run the cells to set the parameters (ctr+enter or Run/Executer)**"
   ]
  },
  {
   "cell_type": "markdown",
   "id": "3da9ef1f",
   "metadata": {},
   "source": [
    "Path to folder"
   ]
  },
  {
   "cell_type": "code",
   "execution_count": 369,
   "id": "5b1424a1",
   "metadata": {},
   "outputs": [],
   "source": [
    "PATH = 'D:\\\\Users\\\\Iris\\\\07_04_22\\\\'"
   ]
  },
  {
   "cell_type": "markdown",
   "id": "a628f7b7",
   "metadata": {},
   "source": [
    "Name of the cell and plasmids (to set up the name of the files) "
   ]
  },
  {
   "cell_type": "code",
   "execution_count": 370,
   "id": "34ddabd2",
   "metadata": {},
   "outputs": [],
   "source": [
    "#cell: HT or Kras\n",
    "#plasmid: optopatch or ERKKTR\n",
    "#cell='HT'\n",
    "plasmid='optopatch'\n",
    "iteration=7\n"
   ]
  },
  {
   "cell_type": "markdown",
   "id": "c07ad994",
   "metadata": {},
   "source": [
    "Lasers settings"
   ]
  },
  {
   "cell_type": "code",
   "execution_count": 371,
   "id": "be87a9d1",
   "metadata": {},
   "outputs": [],
   "source": [
    "#laser intensity: \n",
    "laser_405=10\n",
    "laser_488=10\n",
    "laser_561=30\n",
    "laser_642=0\n",
    "\n",
    "#observations and activation channels \n",
    "#channel 'CSUTRANS', 'CSU405','CSU488','CSU561','CSU640'\n",
    "wl_obs=['CSU561']\n",
    "wl_act=['CSU488']\n",
    "\n",
    "#exposure (ms)\n",
    "exp=100\n",
    "#gain \n",
    "G=400"
   ]
  },
  {
   "cell_type": "markdown",
   "id": "b33a412b",
   "metadata": {},
   "source": [
    "Time lapse settings"
   ]
  },
  {
   "cell_type": "code",
   "execution_count": 372,
   "id": "64032186",
   "metadata": {},
   "outputs": [],
   "source": [
    "'''Observation - acquisition '''\n",
    "#time step (s)\n",
    "step=4\n",
    "# total time of acquisition (s)\n",
    "t_final=900\n",
    "\n",
    "'''Activations pulses'''\n",
    "#activation\n",
    "act_pulse=1 # duration of 1 activation pulse\n",
    "act_lenght=20 #duration of total time of activation\n",
    "act_start=180 #start time of activation"
   ]
  },
  {
   "cell_type": "code",
   "execution_count": 373,
   "id": "5446121e",
   "metadata": {},
   "outputs": [],
   "source": [
    "PATH = PATH+plasmid+'\\\\'\n",
    "name=PATH+plasmid+'_'+str(laser_405)+'_'+str(iteration)+'_'\n"
   ]
  },
  {
   "cell_type": "markdown",
   "id": "5d986fb4",
   "metadata": {},
   "source": [
    "Description "
   ]
  },
  {
   "cell_type": "code",
   "execution_count": 374,
   "id": "dae0ce00",
   "metadata": {},
   "outputs": [],
   "source": [
    "#description (text)\n",
    "D='600s obs, 20s pulse'"
   ]
  },
  {
   "cell_type": "markdown",
   "id": "78c284b3",
   "metadata": {},
   "source": [
    "Run to acquire current position\n",
    "\\\n",
    "**=> Running the following cell (invisible) will create a new position folder (ctr+enter or Run/Executer)**"
   ]
  },
  {
   "cell_type": "code",
   "execution_count": 375,
   "id": "9c0f3490",
   "metadata": {
    "hide_input": false,
    "scrolled": true
   },
   "outputs": [
    {
     "name": "stdout",
     "output_type": "stream",
     "text": [
      "D:\\Users\\Iris\\07_04_22\\optopatch\\current_position.csv\n",
      "new file created and Good to go\n"
     ]
    }
   ],
   "source": [
    "#file name \n",
    "name_csv='current_position'\n",
    "name_csv=PATH+name_csv+'.csv'\n",
    "print(name_csv)\n",
    "pos_experiment=pd.DataFrame(np.array([[0,0,0]]),columns=['x', 'y', 'z'])\n",
    "pos_experiment.drop([0], inplace = True)\n",
    "print(\"new file created and Good to go\") "
   ]
  },
  {
   "cell_type": "code",
   "execution_count": 376,
   "id": "5e48249c",
   "metadata": {},
   "outputs": [],
   "source": [
    "# to run to add a new position\n",
    "pos_experiment=add_pos(pos_experiment)\n",
    "pos_experiment.to_csv(name_csv, index = False)"
   ]
  },
  {
   "cell_type": "markdown",
   "id": "e521a0b5",
   "metadata": {},
   "source": [
    "Summary of parameters\n",
    "\\\n",
    "**=> Run the following cell to print out the parameters (ctr+enter or Run/Executer)**"
   ]
  },
  {
   "cell_type": "code",
   "execution_count": 377,
   "id": "0e82dd94",
   "metadata": {
    "hide_input": false,
    "scrolled": true
   },
   "outputs": [
    {
     "name": "stdout",
     "output_type": "stream",
     "text": [
      "File name:  D:\\Users\\Iris\\07_04_22\\optopatch\\optopatch_10_7_\n",
      "total acquisition duration:  900 s - time steps:  4 s\n",
      "activation steps:  [180, 181, 182, 183, 184, 185, 186, 187, 188, 189, 190, 191, 192, 193, 194, 195, 196, 197, 198, 199]\n",
      "observation wavelenght:  ['CSU561'] - activation wavelenght:  ['CSU488']\n",
      "Lasers intensities: 405= 10  - 488= 10  - 561= 30  - 642= 0\n",
      "Exposure:  100\n",
      "Gain:  400\n",
      "coordinates:\n"
     ]
    },
    {
     "data": {
      "text/plain": [
       "[[-1497, 295, 0]]"
      ]
     },
     "metadata": {},
     "output_type": "display_data"
    }
   ],
   "source": [
    "# path to folder \\\n",
    "#'\\\\laser power\\\\'+str(laser)+\n",
    "\n",
    "#individual file name \n",
    "\n",
    "\n",
    "print('File name: ',name)\n",
    "\n",
    "print('total acquisition duration: ',t_final,'s - time steps: ',step,'s')\n",
    "\n",
    "t_activation=[act_start+t for t in range(0,act_lenght,act_pulse)]\n",
    "if wl_act:\n",
    "    print('activation steps: ',t_activation)\n",
    "print('observation wavelenght: ',wl_obs,'- activation wavelenght: ',wl_act,)\n",
    "print('Lasers intensities: 405=',laser_405,' - 488=',laser_488,' - 561=',laser_561,' - 642=', laser_642)\n",
    "print('Exposure: ',exp)\n",
    "print('Gain: ',G)\n",
    "#coordinates ([x,y,z]) - from file \n",
    "\n",
    "pos_csv=pd.read_csv(PATH+file_name_csv+'.csv')\n",
    "coord_m=dataframe_to_coordinates(pos_csv)\n",
    "print('coordinates:')\n",
    "display(coord_m)\n",
    "\n"
   ]
  },
  {
   "cell_type": "markdown",
   "id": "91f322a4",
   "metadata": {},
   "source": [
    "Acquisition\n",
    "\\\n",
    "**=> Run the following cell to launch the acquisition (ctr+enter or Run/Executer)**"
   ]
  },
  {
   "cell_type": "code",
   "execution_count": 378,
   "id": "552ec81b",
   "metadata": {
    "hide_input": false
   },
   "outputs": [
    {
     "name": "stdout",
     "output_type": "stream",
     "text": [
      "obs 0\n",
      "obs 4\n",
      "obs 8\n",
      "obs 12\n",
      "obs 16\n",
      "obs 20\n",
      "obs 24\n",
      "obs 28\n",
      "obs 32\n",
      "obs 36\n",
      "obs 40\n",
      "obs 44\n",
      "obs 48\n",
      "obs 52\n",
      "obs 56\n",
      "obs 60\n",
      "obs 64\n",
      "obs 68\n",
      "obs 72\n",
      "obs 76\n",
      "obs 80\n",
      "obs 84\n",
      "obs 88\n",
      "obs 92\n",
      "obs 96\n",
      "obs 100\n",
      "obs 104\n",
      "obs 108\n",
      "obs 112\n",
      "obs 116\n",
      "obs 120\n",
      "obs 124\n",
      "obs 128\n",
      "obs 132\n",
      "obs 136\n",
      "obs 140\n",
      "obs 144\n",
      "obs 148\n",
      "obs 152\n",
      "obs 156\n",
      "obs 160\n",
      "obs 164\n",
      "obs 168\n",
      "obs 172\n",
      "obs 176\n",
      "=> => => act 180\n",
      "obs 180\n",
      "=> => => act 184\n",
      "obs 184\n",
      "=> => => act 188\n",
      "obs 188\n",
      "=> => => act 192\n",
      "obs 192\n",
      "=> => => act 196\n",
      "obs 196\n",
      "obs 200\n",
      "obs 204\n",
      "obs 208\n",
      "obs 212\n",
      "obs 216\n",
      "obs 220\n",
      "obs 224\n",
      "obs 228\n",
      "obs 232\n",
      "obs 236\n",
      "obs 240\n",
      "obs 244\n",
      "obs 248\n",
      "obs 252\n",
      "obs 256\n",
      "obs 260\n",
      "obs 264\n",
      "obs 268\n",
      "obs 272\n",
      "obs 276\n",
      "obs 280\n",
      "obs 284\n",
      "obs 288\n",
      "obs 292\n",
      "obs 296\n",
      "obs 300\n",
      "obs 304\n",
      "obs 308\n",
      "obs 312\n",
      "obs 316\n",
      "obs 320\n",
      "obs 324\n",
      "obs 328\n",
      "obs 332\n",
      "obs 336\n",
      "obs 340\n",
      "obs 344\n",
      "obs 348\n",
      "obs 352\n",
      "obs 356\n",
      "obs 360\n",
      "obs 364\n",
      "obs 368\n",
      "obs 372\n",
      "obs 376\n",
      "obs 380\n",
      "obs 384\n",
      "obs 388\n",
      "obs 392\n",
      "obs 396\n",
      "obs 400\n",
      "obs 404\n",
      "obs 408\n",
      "obs 412\n",
      "obs 416\n",
      "obs 420\n",
      "obs 424\n",
      "obs 428\n",
      "obs 432\n",
      "obs 436\n",
      "obs 440\n",
      "obs 444\n",
      "obs 448\n",
      "obs 452\n",
      "obs 456\n",
      "obs 460\n",
      "obs 464\n",
      "obs 468\n",
      "obs 472\n",
      "obs 476\n",
      "obs 480\n",
      "obs 484\n",
      "obs 488\n",
      "obs 492\n",
      "obs 496\n",
      "obs 500\n",
      "obs 504\n",
      "obs 508\n",
      "obs 512\n",
      "obs 516\n",
      "obs 520\n",
      "obs 524\n",
      "obs 528\n",
      "obs 532\n",
      "obs 536\n",
      "obs 540\n",
      "obs 544\n",
      "obs 548\n",
      "obs 552\n",
      "obs 556\n",
      "obs 560\n",
      "obs 564\n",
      "obs 568\n",
      "obs 572\n",
      "obs 576\n",
      "obs 580\n",
      "obs 584\n",
      "obs 588\n",
      "obs 592\n",
      "obs 596\n",
      "obs 600\n",
      "obs 604\n",
      "obs 608\n",
      "obs 612\n",
      "obs 616\n",
      "obs 620\n",
      "obs 624\n",
      "obs 628\n",
      "obs 632\n",
      "obs 636\n",
      "obs 640\n",
      "obs 644\n",
      "obs 648\n",
      "obs 652\n",
      "obs 656\n",
      "obs 660\n",
      "obs 664\n",
      "obs 668\n",
      "obs 672\n",
      "obs 676\n",
      "obs 680\n",
      "obs 684\n",
      "obs 688\n",
      "obs 692\n",
      "obs 696\n",
      "obs 700\n",
      "obs 704\n",
      "obs 708\n",
      "obs 712\n",
      "obs 716\n",
      "obs 720\n",
      "obs 724\n",
      "obs 728\n",
      "obs 732\n",
      "obs 736\n",
      "obs 740\n",
      "obs 744\n",
      "obs 748\n",
      "obs 752\n",
      "obs 756\n",
      "obs 760\n",
      "obs 764\n",
      "obs 768\n",
      "obs 772\n",
      "obs 776\n",
      "obs 780\n",
      "obs 784\n",
      "obs 788\n",
      "obs 792\n",
      "obs 796\n",
      "obs 800\n",
      "obs 804\n",
      "obs 808\n",
      "obs 812\n",
      "obs 816\n",
      "obs 820\n",
      "obs 824\n",
      "obs 828\n",
      "obs 832\n",
      "obs 836\n",
      "obs 840\n",
      "obs 844\n",
      "obs 848\n",
      "obs 852\n",
      "obs 856\n",
      "obs 860\n",
      "obs 864\n",
      "obs 868\n",
      "obs 872\n",
      "obs 876\n",
      "obs 880\n",
      "obs 884\n",
      "obs 888\n",
      "obs 892\n",
      "obs 896\n",
      "obs 900\n"
     ]
    }
   ],
   "source": [
    "'''script'''\n",
    "t0=round(time.time())\n",
    "time_points_obs=np.array([round(t0+t) for t in range(0,t_final+1,step)])\n",
    "time_points_act=[round(t0+t) for t in t_activation]\n",
    "local_time=round(time.time())\n",
    "counter=0\n",
    "set_laser(laser_405,laser_488,laser_561,laser_642)\n",
    "set_exposure(exp)\n",
    "set_gain(G)\n",
    "while counter<len(time_points_obs):\n",
    "    for point in time_points_obs:\n",
    "        while local_time<point:\n",
    "            local_time=round(time.time())\n",
    "            time.sleep(0.1)\n",
    "        #set up the microscope:\n",
    "        if local_time in time_points_act:\n",
    "            if wl_act: #check that an activation has been set up \n",
    "                set_wl(wl_act[0])\n",
    "                acquire(jnl_path,path_tmp)\n",
    "                print('=> => => act',local_time-t0)\n",
    "        for n in range(len(coord_m)):\n",
    "            coord=mat_conversion(coord_m[n])\n",
    "            set_pos(coord)\n",
    "            for m in range(len(wl_obs)):\n",
    "                wl=wl_obs[m]\n",
    "                set_wl(wl)\n",
    "                T=local_time-t0\n",
    "                print('obs',T)\n",
    "                # save meta data for the acquisition\n",
    "                coord_str='x='+str(coord[0])+', y='+str(coord[1])+', z='+str(coord[2])\n",
    "                if wl_act:\n",
    "                    MD=np.array(['Position: '+coord_str,'Acquisition Channel: '+wl,'Activation Channel: '+wl_act[0],'Step of timelaps: '+str(step),'t0 activation: '+str(act_start),'tf activation: '+str(act_start+act_lenght),'Exposure: '+str(exp),'Gain: '+str(G),'Laser Intensity 405: '+str(laser_405),'Laser Intensity 488: '+str(laser_488),'Laser Intensity 561: '+str(laser_561),'Laser Intensity 642: '+str(laser_642),'Description: '+str(D)])\n",
    "                else:\n",
    "                    MD=np.array(['Position: '+coord_str,'Acquisition Channel: '+wl,'Exposure: '+str(exp),'Gain: '+str(G),'Laser Intensity 405: '+str(laser_405),'Laser Intensity 488: '+str(laser_488),'Laser Intensity 561: '+str(laser_561),'Laser Intensity 642: '+str(laser_642),'Description: '+str(D)])\n",
    "                MD_name=name+'pos'+str(n)+'_wl'+str(wl)+'_metadata.txt'\n",
    "                with open(MD_name, 'w') as f:\n",
    "                    for line in MD:\n",
    "                        f.write(line)\n",
    "                        f.write('\\n')\n",
    "                #save individual image\n",
    "                name_n=name+'pos'+str(n)+'_'+'wl'+str(wl)+'_'+str(T)+'.tif'\n",
    "                acquire_save(name_n,jnl_path,path_tmp)\n",
    "                # save timelapse as stack \n",
    "                #stack_name_n=name+'pos'+str(n)+'_'+'wl'+str(wl)+'.tif'\n",
    "                #acquire_save(stack_name_n,jnl_path,path_tmp)\n",
    "                counter+=1"
   ]
  }
 ],
 "metadata": {
  "kernelspec": {
   "display_name": "Python 3 (ipykernel)",
   "language": "python",
   "name": "python3"
  },
  "language_info": {
   "codemirror_mode": {
    "name": "ipython",
    "version": 3
   },
   "file_extension": ".py",
   "mimetype": "text/x-python",
   "name": "python",
   "nbconvert_exporter": "python",
   "pygments_lexer": "ipython3",
   "version": "3.7.6"
  }
 },
 "nbformat": 4,
 "nbformat_minor": 5
}
